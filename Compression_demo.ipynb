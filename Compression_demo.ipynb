{
 "cells": [
  {
   "cell_type": "markdown",
   "metadata": {},
   "source": [
    "# Algorithm demonstrations\n",
    "\n",
    "The following notebook provides a demonstration of all the algorithms written for the FTR\n",
    "\n",
    "## Setup\n",
    "\n",
    "For the code to run, please ensure that the module bitstring is installed, also for the contextual algorithm to work add the following function to the vl_codes module:\n"
   ]
  },
  {
   "cell_type": "code",
   "execution_count": 1,
   "metadata": {},
   "outputs": [],
   "source": [
    "# initial imports\n",
    "import itertools\n",
    "import numpy as np\n",
    "from math import log2\n",
    "\n",
    "import adaptive_arithmetic as adarith\n",
    "import context_arithmetic as conarith\n",
    "import fgk\n",
    "import vitter\n",
    "\n",
    "def probability_dict(x):\n",
    "    \"\"\"\n",
    "    Produces probability dictionary for to compress file with based on the\n",
    "    normalised frequencies of each symbol.\n",
    "\n",
    "    Parameters:\n",
    "    -----------\n",
    "    x: dict\n",
    "    file data\n",
    "\n",
    "    Returns:\n",
    "    --------\n",
    "    p: dict\n",
    "    Alphabet and corresponding probability\n",
    "    frequencies: dict\n",
    "    Alphabet and corresponding frequencies in file data\n",
    "    \"\"\"\n",
    "\n",
    "    frequencies = dict([(key, len(list(group))) for key, group in itertools.groupby(sorted(x))])\n",
    "    n = sum([frequencies[a] for a in frequencies])\n",
    "    p = dict([(a, frequencies[a]/n) for a in frequencies])\n",
    "    return(p, frequencies)"
   ]
  },
  {
   "cell_type": "markdown",
   "metadata": {},
   "source": [
    "## File properties\n",
    "\n",
    "The following cell calculates and displays the properties of a given file:"
   ]
  },
  {
   "cell_type": "code",
   "execution_count": 2,
   "metadata": {},
   "outputs": [
    {
     "name": "stdout",
     "output_type": "stream",
     "text": [
      "***Properties of file hamlet.txt: ***\n",
      "File size:      207039 bytes\n",
      "Static Entropy: 4.449863631694343 bits\n",
      "Markov Entropy: 3.352987113263871 bits\n"
     ]
    }
   ],
   "source": [
    "file_name = \"hamlet.txt\"\n",
    "\n",
    "with open(file_name) as file:\n",
    "    data = file.read()\n",
    "    \n",
    "H_stat = lambda pr: -sum([pr[a]*log2(pr[a]) for a in pr]) # i.i.d entropy\n",
    "\n",
    "p, freq = probability_dict(data)\n",
    "transition = conarith.transition_matrix(data)\n",
    "\n",
    "H = 0                                                     # Markov chain entropy\n",
    "for char in p:\n",
    "    pxy = transition[ord(char)]\n",
    "    for i in pxy:\n",
    "        if i== 0:\n",
    "            continue\n",
    "        H += p[char]*i*np.log2(1/i)\n",
    "        \n",
    "print(\"***Properties of file {}: ***\".format(file_name))\n",
    "print(\"File size:      {} bytes\".format(len(data)))\n",
    "print(\"Static Entropy: {} bits\".format(H_stat(p)))\n",
    "print(\"Markov Entropy: {} bits\".format(H))\n",
    "\n",
    "\n",
    "    "
   ]
  },
  {
   "cell_type": "markdown",
   "metadata": {},
   "source": [
    "## Adaptive Huffman\n",
    "\n",
    "### FGK"
   ]
  },
  {
   "cell_type": "code",
   "execution_count": 3,
   "metadata": {},
   "outputs": [
    {
     "name": "stdout",
     "output_type": "stream",
     "text": [
      "FGK Compression rate for hamlet.txt: 4.56374885891064 bits/symbol\n",
      "        HAMLET\n",
      "\n",
      "\n",
      "        DRAMATIS PERSONAE\n",
      "\n",
      "\n",
      "CLAUDIUS        king of Denmark. (KING CLAUDIUS:)\n",
      "\n",
      "HAMLET  son to the late, and nephew to the present king.\n",
      "\n",
      "POLONIUS        lord chamberlain. (LORD POLONI\n"
     ]
    }
   ],
   "source": [
    "y = fgk.encode(data)\n",
    "x = fgk.decode(y)\n",
    "print(\"FGK Compression rate for {}: {} bits/symbol\".format(file_name, len(y)/len(data)))\n",
    "print(''.join(x[:200]))"
   ]
  },
  {
   "cell_type": "markdown",
   "metadata": {},
   "source": [
    "## Vitter"
   ]
  },
  {
   "cell_type": "code",
   "execution_count": 4,
   "metadata": {},
   "outputs": [
    {
     "name": "stdout",
     "output_type": "stream",
     "text": [
      "Vitter Compression rate for hamlet.txt with N=2071 and alpha=0.5: 4.480247682803723 bits/symbol\n",
      "        HAMLET\n",
      "\n",
      "\n",
      "        DRAMATIS PERSONAE\n",
      "\n",
      "\n",
      "CLAUDIUS        king of Denmark. (KING CLAUDIUS:)\n",
      "\n",
      "HAMLET  son to the late, and nephew to the present king.\n",
      "\n",
      "POLONIUS        lord chamberlain. (LORD POLONI\n"
     ]
    }
   ],
   "source": [
    "N = int(np.ceil(len(data)*0.01))\n",
    "alpha = 0.5\n",
    "remove = True\n",
    "\n",
    "y = vitter.vitter_encode(data, N=N, alpha=alpha, remove=remove)\n",
    "x = vitter.vitter_decode(y, N=N, alpha=alpha, remove=remove)\n",
    "\n",
    "print(\"Vitter Compression rate for {} with N={} and alpha={}: {} bits/symbol\".format(file_name, N, alpha, len(y)/len(data)))\n",
    "print(''.join(x[:200]))"
   ]
  },
  {
   "cell_type": "markdown",
   "metadata": {},
   "source": [
    "## Arithmetic Coding\n",
    "\n",
    "### Adaptive"
   ]
  },
  {
   "cell_type": "code",
   "execution_count": 5,
   "metadata": {},
   "outputs": [
    {
     "name": "stdout",
     "output_type": "stream",
     "text": [
      "Adaptive Arithmetic Compression rate for hamlet.txt with N=2071 and alpha=0.5: 4.474809093938823 bits/symbol\n",
      "        HAMLET\n",
      "\n",
      "\n",
      "        DRAMATIS PERSONAE\n",
      "\n",
      "\n",
      "CLAUDIUS        king of Denmark. (KING CLAUDIUS:)\n",
      "\n",
      "HAMLET  son to the late, and nephew to the present king.\n",
      "\n",
      "POLONIUS        lord chamberlain. (LORD POLONI\n"
     ]
    }
   ],
   "source": [
    "N = int(np.ceil(len(data)*0.01))\n",
    "alpha = 0.5\n",
    "\n",
    "y = adarith.encode(data, N=N, alpha=alpha)\n",
    "x = adarith.decode(y, N=N, alpha=alpha)\n",
    "\n",
    "print(\"Adaptive Arithmetic Compression rate for {} with N={} and alpha={}: {} bits/symbol\".format(file_name, N, alpha, len(y)/len(data)))\n",
    "print(''.join(x[:200]))"
   ]
  },
  {
   "cell_type": "markdown",
   "metadata": {},
   "source": [
    "### Contextual\n",
    "\n"
   ]
  },
  {
   "cell_type": "code",
   "execution_count": 6,
   "metadata": {},
   "outputs": [
    {
     "name": "stdout",
     "output_type": "stream",
     "text": [
      "Contextual Arithmetic Compression rate for hamlet.txt: 3.3531556856437676 bits/symbol\n",
      "        HAMLET\n",
      "\n",
      "\n",
      "        DRAMATIS PERSONAE\n",
      "\n",
      "\n",
      "CLAUDIUS        king of Denmark. (KING CLAUDIUS:)\n",
      "\n",
      "HAMLET  son to the late, and nephew to the present king.\n",
      "\n",
      "POLONIUS        lord chamberlain. (LORD POLONI\n"
     ]
    }
   ],
   "source": [
    "y, transition, p0 = conarith.encode(data)\n",
    "x = conarith.decode(y, transition, p0)\n",
    "\n",
    "print(\"Contextual Arithmetic Compression rate for {}: {} bits/symbol\".format(file_name, len(y)/len(data)))\n",
    "print(''.join(x[:200]))"
   ]
  },
  {
   "cell_type": "code",
   "execution_count": null,
   "metadata": {},
   "outputs": [],
   "source": []
  }
 ],
 "metadata": {
  "kernelspec": {
   "display_name": "Python 3",
   "language": "python",
   "name": "python3"
  },
  "language_info": {
   "codemirror_mode": {
    "name": "ipython",
    "version": 3
   },
   "file_extension": ".py",
   "mimetype": "text/x-python",
   "name": "python",
   "nbconvert_exporter": "python",
   "pygments_lexer": "ipython3",
   "version": "3.7.0"
  }
 },
 "nbformat": 4,
 "nbformat_minor": 2
}
